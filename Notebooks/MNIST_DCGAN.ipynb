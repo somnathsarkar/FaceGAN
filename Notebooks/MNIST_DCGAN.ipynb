{
 "cells": [
  {
   "cell_type": "markdown",
   "metadata": {},
   "source": [
    "# DCGAN on MNIST"
   ]
  },
  {
   "cell_type": "code",
   "execution_count": 1,
   "metadata": {},
   "outputs": [
    {
     "name": "stderr",
     "output_type": "stream",
     "text": [
      "Using TensorFlow backend.\n"
     ]
    }
   ],
   "source": [
    "import numpy as np\n",
    "import time\n",
    "from tensorflow.examples.tutorials.mnist import input_data\n",
    "\n",
    "from keras.models import Sequential\n",
    "from keras.layers import Dense, Activation, Flatten, Reshape\n",
    "from keras.layers import Conv2D, Conv2DTranspose, UpSampling2D\n",
    "from keras.layers import LeakyReLU, Dropout\n",
    "from keras.layers import BatchNormalization\n",
    "from keras.optimizers import Adam, RMSprop\n",
    "\n",
    "import matplotlib.pyplot as plt\n",
    "import pandas as pd\n",
    "import h5py"
   ]
  },
  {
   "cell_type": "markdown",
   "metadata": {},
   "source": [
    "## Define Constants"
   ]
  },
  {
   "cell_type": "code",
   "execution_count": 2,
   "metadata": {
    "collapsed": true
   },
   "outputs": [],
   "source": [
    "img_rows = 28\n",
    "img_cols = 28\n",
    "img_channels = 1\n",
    "batch_size = 256\n",
    "epochs = 1000"
   ]
  },
  {
   "cell_type": "markdown",
   "metadata": {},
   "source": [
    "## Discriminator Architecture"
   ]
  },
  {
   "cell_type": "code",
   "execution_count": 3,
   "metadata": {},
   "outputs": [
    {
     "name": "stdout",
     "output_type": "stream",
     "text": [
      "_________________________________________________________________\n",
      "Layer (type)                 Output Shape              Param #   \n",
      "=================================================================\n",
      "conv2d_1 (Conv2D)            (None, 14, 14, 64)        1664      \n",
      "_________________________________________________________________\n",
      "leaky_re_lu_1 (LeakyReLU)    (None, 14, 14, 64)        0         \n",
      "_________________________________________________________________\n",
      "dropout_1 (Dropout)          (None, 14, 14, 64)        0         \n",
      "_________________________________________________________________\n",
      "conv2d_2 (Conv2D)            (None, 7, 7, 128)         204928    \n",
      "_________________________________________________________________\n",
      "leaky_re_lu_2 (LeakyReLU)    (None, 7, 7, 128)         0         \n",
      "_________________________________________________________________\n",
      "dropout_2 (Dropout)          (None, 7, 7, 128)         0         \n",
      "_________________________________________________________________\n",
      "conv2d_3 (Conv2D)            (None, 4, 4, 256)         819456    \n",
      "_________________________________________________________________\n",
      "leaky_re_lu_3 (LeakyReLU)    (None, 4, 4, 256)         0         \n",
      "_________________________________________________________________\n",
      "dropout_3 (Dropout)          (None, 4, 4, 256)         0         \n",
      "_________________________________________________________________\n",
      "conv2d_4 (Conv2D)            (None, 4, 4, 512)         3277312   \n",
      "_________________________________________________________________\n",
      "leaky_re_lu_4 (LeakyReLU)    (None, 4, 4, 512)         0         \n",
      "_________________________________________________________________\n",
      "dropout_4 (Dropout)          (None, 4, 4, 512)         0         \n",
      "_________________________________________________________________\n",
      "flatten_1 (Flatten)          (None, 8192)              0         \n",
      "_________________________________________________________________\n",
      "dense_1 (Dense)              (None, 1)                 8193      \n",
      "_________________________________________________________________\n",
      "activation_1 (Activation)    (None, 1)                 0         \n",
      "=================================================================\n",
      "Total params: 4,311,553\n",
      "Trainable params: 4,311,553\n",
      "Non-trainable params: 0\n",
      "_________________________________________________________________\n"
     ]
    }
   ],
   "source": [
    "D = Sequential()\n",
    "depth = 64\n",
    "dropout = 0.4\n",
    "input_shape = (28,28,1)\n",
    "D.add(Conv2D(depth*1, 5, strides=2, input_shape=input_shape, padding='same'))\n",
    "D.add(LeakyReLU(alpha=0.2))\n",
    "D.add(Dropout(dropout))\n",
    "D.add(Conv2D(depth*2, 5, strides=2, padding='same'))\n",
    "D.add(LeakyReLU(alpha=0.2))\n",
    "D.add(Dropout(dropout))\n",
    "D.add(Conv2D(depth*4, 5, strides=2, padding='same'))\n",
    "D.add(LeakyReLU(alpha=0.2))\n",
    "D.add(Dropout(dropout))\n",
    "D.add(Conv2D(depth*8, 5, strides=1, padding='same'))\n",
    "D.add(LeakyReLU(alpha=0.2))\n",
    "D.add(Dropout(dropout))\n",
    "D.add(Flatten())\n",
    "D.add(Dense(1))\n",
    "D.add(Activation('sigmoid'))\n",
    "D.summary()"
   ]
  },
  {
   "cell_type": "markdown",
   "metadata": {},
   "source": [
    "## Generator Architecture"
   ]
  },
  {
   "cell_type": "code",
   "execution_count": 4,
   "metadata": {},
   "outputs": [
    {
     "name": "stdout",
     "output_type": "stream",
     "text": [
      "_________________________________________________________________\n",
      "Layer (type)                 Output Shape              Param #   \n",
      "=================================================================\n",
      "dense_2 (Dense)              (None, 12544)             1266944   \n",
      "_________________________________________________________________\n",
      "batch_normalization_1 (Batch (None, 12544)             50176     \n",
      "_________________________________________________________________\n",
      "activation_2 (Activation)    (None, 12544)             0         \n",
      "_________________________________________________________________\n",
      "reshape_1 (Reshape)          (None, 7, 7, 256)         0         \n",
      "_________________________________________________________________\n",
      "dropout_5 (Dropout)          (None, 7, 7, 256)         0         \n",
      "_________________________________________________________________\n",
      "up_sampling2d_1 (UpSampling2 (None, 14, 14, 256)       0         \n",
      "_________________________________________________________________\n",
      "conv2d_transpose_1 (Conv2DTr (None, 14, 14, 128)       819328    \n",
      "_________________________________________________________________\n",
      "batch_normalization_2 (Batch (None, 14, 14, 128)       512       \n",
      "_________________________________________________________________\n",
      "activation_3 (Activation)    (None, 14, 14, 128)       0         \n",
      "_________________________________________________________________\n",
      "up_sampling2d_2 (UpSampling2 (None, 28, 28, 128)       0         \n",
      "_________________________________________________________________\n",
      "conv2d_transpose_2 (Conv2DTr (None, 28, 28, 64)        204864    \n",
      "_________________________________________________________________\n",
      "batch_normalization_3 (Batch (None, 28, 28, 64)        256       \n",
      "_________________________________________________________________\n",
      "activation_4 (Activation)    (None, 28, 28, 64)        0         \n",
      "_________________________________________________________________\n",
      "conv2d_transpose_3 (Conv2DTr (None, 28, 28, 32)        51232     \n",
      "_________________________________________________________________\n",
      "batch_normalization_4 (Batch (None, 28, 28, 32)        128       \n",
      "_________________________________________________________________\n",
      "activation_5 (Activation)    (None, 28, 28, 32)        0         \n",
      "_________________________________________________________________\n",
      "conv2d_transpose_4 (Conv2DTr (None, 28, 28, 1)         801       \n",
      "_________________________________________________________________\n",
      "activation_6 (Activation)    (None, 28, 28, 1)         0         \n",
      "=================================================================\n",
      "Total params: 2,394,241\n",
      "Trainable params: 2,368,705\n",
      "Non-trainable params: 25,536\n",
      "_________________________________________________________________\n"
     ]
    }
   ],
   "source": [
    "G = Sequential()\n",
    "dropout = 0.4\n",
    "depth = 64+64+64+64\n",
    "dim = 7\n",
    "G.add(Dense(dim*dim*depth, input_dim=100))\n",
    "G.add(BatchNormalization(momentum=0.9))\n",
    "G.add(Activation('relu'))\n",
    "G.add(Reshape((dim, dim, depth)))\n",
    "G.add(Dropout(dropout))\n",
    "G.add(UpSampling2D())\n",
    "G.add(Conv2DTranspose(int(depth/2), 5, padding='same'))\n",
    "G.add(BatchNormalization(momentum=0.9))\n",
    "G.add(Activation('relu'))\n",
    "G.add(UpSampling2D())\n",
    "G.add(Conv2DTranspose(int(depth/4), 5, padding='same'))\n",
    "G.add(BatchNormalization(momentum=0.9))\n",
    "G.add(Activation('relu'))\n",
    "G.add(Conv2DTranspose(int(depth/8), 5, padding='same'))\n",
    "G.add(BatchNormalization(momentum=0.9))\n",
    "G.add(Activation('relu'))\n",
    "G.add(Conv2DTranspose(1, 5, padding='same'))\n",
    "G.add(Activation('sigmoid'))\n",
    "G.summary()"
   ]
  },
  {
   "cell_type": "markdown",
   "metadata": {},
   "source": [
    "## Discriminator Model"
   ]
  },
  {
   "cell_type": "code",
   "execution_count": 5,
   "metadata": {
    "collapsed": true
   },
   "outputs": [],
   "source": [
    "optimizer = RMSprop(lr=0.0008, clipvalue=1.0, decay=6e-8)\n",
    "DM = Sequential()\n",
    "DM.add(D)\n",
    "DM.compile(loss='binary_crossentropy', optimizer=optimizer, metrics=['accuracy'])"
   ]
  },
  {
   "cell_type": "markdown",
   "metadata": {},
   "source": [
    "## Adversarial Model"
   ]
  },
  {
   "cell_type": "code",
   "execution_count": 6,
   "metadata": {
    "collapsed": true
   },
   "outputs": [],
   "source": [
    "optimizer = RMSprop(lr=0.0004, clipvalue=1.0, decay=3e-8)\n",
    "AM = Sequential()\n",
    "AM.add(G)\n",
    "AM.add(D)\n",
    "AM.compile(loss='binary_crossentropy', optimizer=optimizer, metrics=['accuracy'])"
   ]
  },
  {
   "cell_type": "markdown",
   "metadata": {},
   "source": [
    "## Load Data"
   ]
  },
  {
   "cell_type": "code",
   "execution_count": 7,
   "metadata": {
    "collapsed": true
   },
   "outputs": [],
   "source": [
    "X_train = pd.read_csv(\"../Data/train.csv\").iloc[:,1:].values.reshape(-1,28,28,1).astype(\"float32\")/255"
   ]
  },
  {
   "cell_type": "markdown",
   "metadata": {},
   "source": [
    "## Train DCGAN"
   ]
  },
  {
   "cell_type": "code",
   "execution_count": 8,
   "metadata": {},
   "outputs": [
    {
     "name": "stdout",
     "output_type": "stream",
     "text": [
      "Epoch 25: Discriminator Loss: [0.0024921335, 1.0], Total Loss: [0.00040250961, 1.0]\n",
      "Epoch 50: Discriminator Loss: [0.47548902, 0.51953125], Total Loss: [1.3235834, 0.0]\n",
      "Epoch 75: Discriminator Loss: [0.50964123, 0.54882813], Total Loss: [0.97517383, 0.00390625]\n",
      "Epoch 100: Discriminator Loss: [0.55644774, 0.7578125], Total Loss: [0.49246472, 0.9140625]\n",
      "Epoch 125: Discriminator Loss: [0.64246696, 0.52734375], Total Loss: [1.0869449, 0.00390625]\n",
      "Epoch 150: Discriminator Loss: [0.70372188, 0.50390625], Total Loss: [0.89295572, 0.00390625]\n",
      "Epoch 175: Discriminator Loss: [0.72008818, 0.49804688], Total Loss: [0.96167719, 0.0]\n",
      "Epoch 200: Discriminator Loss: [0.71576631, 0.5], Total Loss: [0.756881, 0.15625]\n",
      "Epoch 225: Discriminator Loss: [0.80017024, 0.49609375], Total Loss: [0.86357391, 0.03125]\n",
      "Epoch 250: Discriminator Loss: [0.75634879, 0.50195313], Total Loss: [1.0895857, 0.0]\n",
      "Epoch 275: Discriminator Loss: [0.68399662, 0.55273438], Total Loss: [0.23756608, 1.0]\n",
      "Epoch 300: Discriminator Loss: [0.71384144, 0.5], Total Loss: [0.51464444, 0.9921875]\n",
      "Epoch 325: Discriminator Loss: [0.75400531, 0.5], Total Loss: [0.68205059, 0.59765625]\n",
      "Epoch 350: Discriminator Loss: [0.70957547, 0.5], Total Loss: [0.43399608, 1.0]\n",
      "Epoch 375: Discriminator Loss: [0.68717265, 0.54492188], Total Loss: [0.73963362, 0.34765625]\n",
      "Epoch 400: Discriminator Loss: [0.67708033, 0.58203125], Total Loss: [0.86842346, 0.078125]\n",
      "Epoch 425: Discriminator Loss: [0.75153041, 0.5], Total Loss: [0.78590232, 0.14453125]\n",
      "Epoch 450: Discriminator Loss: [0.69030917, 0.50976563], Total Loss: [0.83269221, 0.05078125]\n",
      "Epoch 475: Discriminator Loss: [0.73152936, 0.50195313], Total Loss: [0.88014656, 0.0234375]\n",
      "Epoch 500: Discriminator Loss: [0.70075351, 0.53320313], Total Loss: [0.89055157, 0.08984375]\n",
      "Epoch 525: Discriminator Loss: [0.68883473, 0.52734375], Total Loss: [0.81397218, 0.1328125]\n",
      "Epoch 550: Discriminator Loss: [0.68220466, 0.56445313], Total Loss: [0.88239932, 0.12109375]\n",
      "Epoch 575: Discriminator Loss: [0.68619788, 0.5625], Total Loss: [0.73687798, 0.3203125]\n",
      "Epoch 600: Discriminator Loss: [0.69997287, 0.52734375], Total Loss: [0.91807234, 0.07421875]\n",
      "Epoch 625: Discriminator Loss: [0.68036413, 0.5625], Total Loss: [0.84290749, 0.1171875]\n",
      "Epoch 650: Discriminator Loss: [0.70087695, 0.52539063], Total Loss: [0.94246721, 0.03515625]\n",
      "Epoch 675: Discriminator Loss: [0.69401532, 0.52539063], Total Loss: [0.85416591, 0.078125]\n",
      "Epoch 700: Discriminator Loss: [0.73005617, 0.49609375], Total Loss: [0.9154923, 0.04296875]\n",
      "Epoch 725: Discriminator Loss: [0.70113158, 0.5078125], Total Loss: [0.82346106, 0.21484375]\n",
      "Epoch 750: Discriminator Loss: [0.6978932, 0.53515625], Total Loss: [0.93428564, 0.05078125]\n",
      "Epoch 775: Discriminator Loss: [0.70920557, 0.5078125], Total Loss: [1.0947741, 0.0078125]\n",
      "Epoch 800: Discriminator Loss: [0.7628606, 0.49023438], Total Loss: [1.0176818, 0.0]\n",
      "Epoch 825: Discriminator Loss: [0.70174164, 0.52148438], Total Loss: [0.86507887, 0.109375]\n",
      "Epoch 850: Discriminator Loss: [0.71607035, 0.49414063], Total Loss: [0.95250881, 0.06640625]\n",
      "Epoch 875: Discriminator Loss: [0.68333566, 0.56640625], Total Loss: [0.87359893, 0.1328125]\n",
      "Epoch 900: Discriminator Loss: [0.69285721, 0.53515625], Total Loss: [0.76921695, 0.296875]\n",
      "Epoch 925: Discriminator Loss: [0.76416677, 0.49609375], Total Loss: [1.0939134, 0.01171875]\n",
      "Epoch 950: Discriminator Loss: [0.69969594, 0.52148438], Total Loss: [0.85459578, 0.1640625]\n",
      "Epoch 975: Discriminator Loss: [0.7151584, 0.52148438], Total Loss: [0.93963361, 0.0546875]\n",
      "Epoch 1000: Discriminator Loss: [0.70999664, 0.5234375], Total Loss: [0.89782137, 0.07421875]\n"
     ]
    }
   ],
   "source": [
    "for i in range(epochs):\n",
    "    images_train = X_train[np.random.randint(0, X_train.shape[0], size=batch_size), :, :, :]\n",
    "    noise = np.random.uniform(-1.0, 1.0, size=[batch_size, 100])\n",
    "    images_fake = G.predict(noise)\n",
    "    X = np.concatenate((images_train, images_fake))\n",
    "    y = np.ones([2*batch_size, 1])\n",
    "    y[batch_size:, :] = 0\n",
    "    d_loss = DM.train_on_batch(X, y)\n",
    "    y = np.ones([batch_size, 1])\n",
    "    noise = np.random.uniform(-1.0, 1.0, size=[batch_size, 100])\n",
    "    a_loss = AM.train_on_batch(noise, y)\n",
    "    if (i+1)%25==0:\n",
    "        print(\"Epoch {}: Discriminator Loss: {}, Total Loss: {}\".format(i+1,d_loss,a_loss))\n",
    "        G.save_weights(\"../Models/MNIST_DCGAN/G_epoch_{:04d}.hdf5\".format(i+1))\n",
    "        D.save_weights(\"../Models/MNIST_DCGAN/D_epoch_{:04d}.hdf5\".format(i+1))"
   ]
  },
  {
   "cell_type": "markdown",
   "metadata": {},
   "source": [
    "## Check output"
   ]
  },
  {
   "cell_type": "code",
   "execution_count": 9,
   "metadata": {},
   "outputs": [
    {
     "data": {
      "image/png": "[encoded data removed]",
      "text/plain": [
       "<matplotlib.figure.Figure at 0x25b18582940>"
      ]
     },
     "metadata": {},
     "output_type": "display_data"
    },
    {
     "data": {
      "image/png": "[encoded data removed]",
      "text/plain": [
       "<matplotlib.figure.Figure at 0x25c1becbba8>"
      ]
     },
     "metadata": {},
     "output_type": "display_data"
    },
    {
     "data": {
      "image/png": "[encoded data removed]",
      "text/plain": [
       "<matplotlib.figure.Figure at 0x25c1b7f8eb8>"
      ]
     },
     "metadata": {},
     "output_type": "display_data"
    },
    {
     "data": {
      "image/png": "[encoded data removed]",
      "text/plain": [
       "<matplotlib.figure.Figure at 0x25c1b747710>"
      ]
     },
     "metadata": {},
     "output_type": "display_data"
    },
    {
     "data": {
      "image/png": "[encoded data removed]",
      "text/plain": [
       "<matplotlib.figure.Figure at 0x25c1b7b20f0>"
      ]
     },
     "metadata": {},
     "output_type": "display_data"
    },
    {
     "data": {
      "image/png": "[encoded data removed]",
      "text/plain": [
       "<matplotlib.figure.Figure at 0x25c1b9f6828>"
      ]
     },
     "metadata": {},
     "output_type": "display_data"
    },
    {
     "data": {
      "image/png": "[encoded data removed]",
      "text/plain": [
       "<matplotlib.figure.Figure at 0x25c1b85d668>"
      ]
     },
     "metadata": {},
     "output_type": "display_data"
    },
    {
     "data": {
      "image/png": "[encoded data removed]",
      "text/plain": [
       "<matplotlib.figure.Figure at 0x25c1bbfbcc0>"
      ]
     },
     "metadata": {},
     "output_type": "display_data"
    },
    {
     "data": {
      "image/png": "[encoded data removed]",
      "text/plain": [
       "<matplotlib.figure.Figure at 0x25c1b927ba8>"
      ]
     },
     "metadata": {},
     "output_type": "display_data"
    },
    {
     "data": {
      "image/png": "[encoded data removed]",
      "text/plain": [
       "<matplotlib.figure.Figure at 0x25c1ba8a550>"
      ]
     },
     "metadata": {},
     "output_type": "display_data"
    },
    {
     "data": {
      "image/png": "[encoded data removed]",
      "text/plain": [
       "<matplotlib.figure.Figure at 0x25c1c039e10>"
      ]
     },
     "metadata": {},
     "output_type": "display_data"
    },
    {
     "data": {
      "image/png": "[encoded data removed]",
      "text/plain": [
       "<matplotlib.figure.Figure at 0x25b2ce18be0>"
      ]
     },
     "metadata": {},
     "output_type": "display_data"
    },
    {
     "data": {
      "image/png": "[encoded data removed]",
      "text/plain": [
       "<matplotlib.figure.Figure at 0x25c1ba19f98>"
      ]
     },
     "metadata": {},
     "output_type": "display_data"
    },
    {
     "data": {
      "image/png": "[encoded data removed]",
      "text/plain": [
       "<matplotlib.figure.Figure at 0x25c1c03e390>"
      ]
     },
     "metadata": {},
     "output_type": "display_data"
    },
    {
     "data": {
      "image/png": "[encoded data removed]",
      "text/plain": [
       "<matplotlib.figure.Figure at 0x25c1be3ff28>"
      ]
     },
     "metadata": {},
     "output_type": "display_data"
    },
    {
     "data": {
      "image/png": "[encoded data removed]",
      "text/plain": [
       "<matplotlib.figure.Figure at 0x25c1ba26cc0>"
      ]
     },
     "metadata": {},
     "output_type": "display_data"
    }
   ],
   "source": [
    "noise_input = np.random.uniform(-1.0,1.0, size=[16,100])\n",
    "y_pred = G.predict(noise_input)\n",
    "for i in y_pred:\n",
    "    plt.imshow(i[:,:,0],cmap='gray')\n",
    "    plt.show()"
   ]
  }
 ],
 "metadata": {
  "kernelspec": {
   "display_name": "Python 3",
   "language": "python",
   "name": "python3"
  },
  "language_info": {
   "codemirror_mode": {
    "name": "ipython",
    "version": 3
   },
   "file_extension": ".py",
   "mimetype": "text/x-python",
   "name": "python",
   "nbconvert_exporter": "python",
   "pygments_lexer": "ipython3",
   "version": "3.6.1"
  }
 },
 "nbformat": 4,
 "nbformat_minor": 2
}
